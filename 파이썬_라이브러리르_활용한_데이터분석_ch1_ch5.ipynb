{
  "nbformat": 4,
  "nbformat_minor": 0,
  "metadata": {
    "colab": {
      "provenance": [],
      "collapsed_sections": [],
      "toc_visible": true,
      "authorship_tag": "ABX9TyPPboplQ6yS9R7b9+9N4InW",
      "include_colab_link": true
    },
    "kernelspec": {
      "name": "python3",
      "display_name": "Python 3"
    },
    "language_info": {
      "name": "python"
    }
  },
  "cells": [
    {
      "cell_type": "markdown",
      "metadata": {
        "id": "view-in-github",
        "colab_type": "text"
      },
      "source": [
        "<a href=\"https://colab.research.google.com/github/jaekyoungkim/python-for-data-analysis/blob/main/%ED%8C%8C%EC%9D%B4%EC%8D%AC_%EB%9D%BC%EC%9D%B4%EB%B8%8C%EB%9F%AC%EB%A6%AC%EB%A5%B4_%ED%99%9C%EC%9A%A9%ED%95%9C_%EB%8D%B0%EC%9D%B4%ED%84%B0%EB%B6%84%EC%84%9D_ch1_ch5.ipynb\" target=\"_parent\"><img src=\"https://colab.research.google.com/assets/colab-badge.svg\" alt=\"Open In Colab\"/></a>"
      ]
    },
    {
      "cell_type": "code",
      "execution_count": null,
      "metadata": {
        "id": "XpgHkm6_F6a-"
      },
      "outputs": [],
      "source": []
    },
    {
      "cell_type": "markdown",
      "source": [
        "# ch1 "
      ],
      "metadata": {
        "id": "gZNO25FJ6VSp"
      }
    },
    {
      "cell_type": "code",
      "source": [
        "import numpy as np\n",
        "import matplotlib.pyplot as plt \n",
        "import pandas as pd \n",
        "import seaborn as sns  \n",
        "import statsmodels as sm"
      ],
      "metadata": {
        "id": "yZncRYS66W2y"
      },
      "execution_count": 1,
      "outputs": []
    },
    {
      "cell_type": "code",
      "source": [],
      "metadata": {
        "id": "oFTxEEwL9paw"
      },
      "execution_count": null,
      "outputs": []
    },
    {
      "cell_type": "markdown",
      "source": [
        "# ch2 "
      ],
      "metadata": {
        "id": "qiHYaUW89p0X"
      }
    },
    {
      "cell_type": "code",
      "source": [
        "# 터미널에서 python hello_world.py 라는 식으로 실행\n",
        "# %run hello_world.py \n",
        "from numpy.random import  randn \n",
        "data= {i : randn() for i in range(7)} \n",
        "data"
      ],
      "metadata": {
        "colab": {
          "base_uri": "https://localhost:8080/"
        },
        "id": "DqYMutSh9q65",
        "outputId": "18735991-b927-4bdf-c129-7f5ba5183d8e"
      },
      "execution_count": 3,
      "outputs": [
        {
          "output_type": "execute_result",
          "data": {
            "text/plain": [
              "{0: -2.123565342573046,\n",
              " 1: -0.2341379867979081,\n",
              " 2: -0.32284243200206675,\n",
              " 3: 0.7302147731958328,\n",
              " 4: 2.1321858962325484,\n",
              " 5: 0.48540875348284973,\n",
              " 6: -0.6481422441703417}"
            ]
          },
          "metadata": {},
          "execution_count": 3
        }
      ]
    },
    {
      "cell_type": "code",
      "source": [
        "# 주피터 노트북  : 터미널에서 jupyter notebook 입력\n",
        "# http://localhost:8888/ \n",
        "an_apple= 27\n",
        "an_apple=45 \n"
      ],
      "metadata": {
        "id": "fXAIcnGh-QFg"
      },
      "execution_count": 4,
      "outputs": []
    },
    {
      "cell_type": "code",
      "source": [
        "b = [1,2,3]\n",
        "b?"
      ],
      "metadata": {
        "id": "y4Sdw7OZ-yoj"
      },
      "execution_count": 7,
      "outputs": []
    },
    {
      "cell_type": "code",
      "source": [
        "print?"
      ],
      "metadata": {
        "id": "WO8qbajT-5_7"
      },
      "execution_count": 8,
      "outputs": []
    },
    {
      "cell_type": "code",
      "source": [
        "def add_numbers(a,b): \n",
        "  \"\"\"add two numbers\"\"\" \n",
        "  return a+b"
      ],
      "metadata": {
        "id": "PKr0RP-m_GOZ"
      },
      "execution_count": 9,
      "outputs": []
    },
    {
      "cell_type": "code",
      "source": [
        "add_numbers?"
      ],
      "metadata": {
        "id": "soQPRInc_O5j"
      },
      "execution_count": 10,
      "outputs": []
    },
    {
      "cell_type": "code",
      "source": [
        "#add_numbers?? # 소스코드도 보여줌"
      ],
      "metadata": {
        "id": "nQhUCVyn_Pv6"
      },
      "execution_count": 12,
      "outputs": []
    },
    {
      "cell_type": "code",
      "source": [
        "np.*load*?\n",
        "# np.__loader__\n",
        "# np.load\n",
        "# np.loads\n",
        "# np.loadtxt"
      ],
      "metadata": {
        "id": "-5E7PTSV_Wx_"
      },
      "execution_count": 13,
      "outputs": []
    },
    {
      "cell_type": "code",
      "source": [
        "# % run명령어 \n",
        "# 실행중인 코드 중지 : ctrl + c\n",
        "# 매직 명령어\n",
        "a = np.random.randn(100,100) ;a\n",
        "%timeit np.dot(a,a)"
      ],
      "metadata": {
        "colab": {
          "base_uri": "https://localhost:8080/"
        },
        "id": "lKbOsca6_ffq",
        "outputId": "3acf5d75-b85d-4370-f008-23225feedd5f"
      },
      "execution_count": 15,
      "outputs": [
        {
          "output_type": "stream",
          "name": "stdout",
          "text": [
            "108 µs ± 4.08 µs per loop (mean ± std. dev. of 7 runs, 10000 loops each)\n"
          ]
        }
      ]
    },
    {
      "cell_type": "code",
      "source": [
        "%debug?"
      ],
      "metadata": {
        "id": "8mZVqkPpFLqH"
      },
      "execution_count": 16,
      "outputs": []
    },
    {
      "cell_type": "code",
      "source": [
        "%pwd"
      ],
      "metadata": {
        "colab": {
          "base_uri": "https://localhost:8080/",
          "height": 35
        },
        "id": "G8TCagGDFQ3g",
        "outputId": "6960fafa-d0d8-4dd8-d6a0-65fa089dcfa1"
      },
      "execution_count": 17,
      "outputs": [
        {
          "output_type": "execute_result",
          "data": {
            "text/plain": [
              "'/content'"
            ],
            "application/vnd.google.colaboratory.intrinsic+json": {
              "type": "string"
            }
          },
          "metadata": {},
          "execution_count": 17
        }
      ]
    },
    {
      "cell_type": "code",
      "source": [
        "foo = %pwd"
      ],
      "metadata": {
        "id": "7H1iJsN_FSTV"
      },
      "execution_count": 18,
      "outputs": []
    },
    {
      "cell_type": "code",
      "source": [
        "foo"
      ],
      "metadata": {
        "colab": {
          "base_uri": "https://localhost:8080/",
          "height": 35
        },
        "id": "WGlgnkZGFSY2",
        "outputId": "3de1644a-f491-4d13-e763-fc541f990b86"
      },
      "execution_count": 19,
      "outputs": [
        {
          "output_type": "execute_result",
          "data": {
            "text/plain": [
              "'/content'"
            ],
            "application/vnd.google.colaboratory.intrinsic+json": {
              "type": "string"
            }
          },
          "metadata": {},
          "execution_count": 19
        }
      ]
    },
    {
      "cell_type": "code",
      "source": [
        "%xdel foo"
      ],
      "metadata": {
        "id": "KgDs7azQFYaW"
      },
      "execution_count": 21,
      "outputs": []
    },
    {
      "cell_type": "code",
      "source": [
        "foo"
      ],
      "metadata": {
        "colab": {
          "base_uri": "https://localhost:8080/",
          "height": 174
        },
        "id": "LboOJ9qHFcx8",
        "outputId": "4eb4f4f2-7df5-41ae-b91e-eb115ba824fa"
      },
      "execution_count": 22,
      "outputs": [
        {
          "output_type": "error",
          "ename": "NameError",
          "evalue": "ignored",
          "traceback": [
            "\u001b[0;31m---------------------------------------------------------------------------\u001b[0m",
            "\u001b[0;31mNameError\u001b[0m                                 Traceback (most recent call last)",
            "\u001b[0;32m<ipython-input-22-f1d2d2f924e9>\u001b[0m in \u001b[0;36m<module>\u001b[0;34m\u001b[0m\n\u001b[0;32m----> 1\u001b[0;31m \u001b[0mfoo\u001b[0m\u001b[0;34m\u001b[0m\u001b[0;34m\u001b[0m\u001b[0m\n\u001b[0m",
            "\u001b[0;31mNameError\u001b[0m: name 'foo' is not defined"
          ]
        }
      ]
    },
    {
      "cell_type": "code",
      "source": [
        "%who"
      ],
      "metadata": {
        "colab": {
          "base_uri": "https://localhost:8080/"
        },
        "id": "Uq20Bj6EFh-f",
        "outputId": "21fc4d88-d098-41b9-f500-ffd086fcd526"
      },
      "execution_count": 23,
      "outputs": [
        {
          "output_type": "stream",
          "name": "stdout",
          "text": [
            "a\t add_numbers\t an_apple\t b\t data\t np\t pd\t plt\t randn\t \n",
            "sm\t sns\t \n"
          ]
        }
      ]
    },
    {
      "cell_type": "code",
      "source": [
        "%who_ls"
      ],
      "metadata": {
        "colab": {
          "base_uri": "https://localhost:8080/"
        },
        "id": "wbTwuAEyFmDR",
        "outputId": "5eac23e4-2487-475b-b83d-432780d0470a"
      },
      "execution_count": 24,
      "outputs": [
        {
          "output_type": "execute_result",
          "data": {
            "text/plain": [
              "['a',\n",
              " 'add_numbers',\n",
              " 'an_apple',\n",
              " 'b',\n",
              " 'data',\n",
              " 'np',\n",
              " 'pd',\n",
              " 'plt',\n",
              " 'randn',\n",
              " 'sm',\n",
              " 'sns']"
            ]
          },
          "metadata": {},
          "execution_count": 24
        }
      ]
    },
    {
      "cell_type": "code",
      "source": [
        "%whos"
      ],
      "metadata": {
        "colab": {
          "base_uri": "https://localhost:8080/"
        },
        "id": "u3vRqALoFogF",
        "outputId": "3a65c7ce-43ee-4986-c4be-314ec731c253"
      },
      "execution_count": 25,
      "outputs": [
        {
          "output_type": "stream",
          "name": "stdout",
          "text": [
            "Variable      Type                          Data/Info\n",
            "-----------------------------------------------------\n",
            "a             ndarray                       100x100: 10000 elems, type `float64`, 80000 bytes\n",
            "add_numbers   function                      <function add_numbers at 0x7f451e7a8680>\n",
            "an_apple      int                           45\n",
            "b             list                          n=3\n",
            "data          dict                          n=7\n",
            "np            module                        <module 'numpy' from '/us<...>kages/numpy/__init__.py'>\n",
            "pd            module                        <module 'pandas' from '/u<...>ages/pandas/__init__.py'>\n",
            "plt           module                        <module 'matplotlib.pyplo<...>es/matplotlib/pyplot.py'>\n",
            "randn         builtin_function_or_method    <built-in method randn of<...>object at 0x7f453b823af0>\n",
            "sm            module                        <module 'statsmodels' fro<...>statsmodels/__init__.py'>\n",
            "sns           module                        <module 'seaborn' from '/<...>ges/seaborn/__init__.py'>\n"
          ]
        }
      ]
    },
    {
      "cell_type": "code",
      "source": [
        "%reset"
      ],
      "metadata": {
        "colab": {
          "base_uri": "https://localhost:8080/"
        },
        "id": "y8JPeiZQFpl1",
        "outputId": "c52f3a60-a0ba-4965-f929-850ddc46f211"
      },
      "execution_count": 26,
      "outputs": [
        {
          "name": "stdout",
          "output_type": "stream",
          "text": [
            "Once deleted, variables cannot be recovered. Proceed (y/[n])? a\n",
            "Once deleted, variables cannot be recovered. Proceed (y/[n])? y\n"
          ]
        }
      ]
    },
    {
      "cell_type": "code",
      "source": [
        "a"
      ],
      "metadata": {
        "colab": {
          "base_uri": "https://localhost:8080/",
          "height": 174
        },
        "id": "Ey4V-NxPFtHw",
        "outputId": "014efd4e-9352-482a-d687-727ae0f46679"
      },
      "execution_count": 27,
      "outputs": [
        {
          "output_type": "error",
          "ename": "NameError",
          "evalue": "ignored",
          "traceback": [
            "\u001b[0;31m---------------------------------------------------------------------------\u001b[0m",
            "\u001b[0;31mNameError\u001b[0m                                 Traceback (most recent call last)",
            "\u001b[0;32m<ipython-input-27-3f786850e387>\u001b[0m in \u001b[0;36m<module>\u001b[0;34m\u001b[0m\n\u001b[0;32m----> 1\u001b[0;31m \u001b[0ma\u001b[0m\u001b[0;34m\u001b[0m\u001b[0;34m\u001b[0m\u001b[0m\n\u001b[0m",
            "\u001b[0;31mNameError\u001b[0m: name 'a' is not defined"
          ]
        }
      ]
    },
    {
      "cell_type": "code",
      "source": [
        "%matplotlib "
      ],
      "metadata": {
        "colab": {
          "base_uri": "https://localhost:8080/"
        },
        "id": "QGKVpUXIFvDv",
        "outputId": "582c0986-6fcd-45af-b210-fec3cd415490"
      },
      "execution_count": 36,
      "outputs": [
        {
          "output_type": "stream",
          "name": "stdout",
          "text": [
            "Using matplotlib backend: agg\n"
          ]
        }
      ]
    },
    {
      "cell_type": "code",
      "source": [
        "# 이기능을 실행하지 않으면 노트북의경우, 그래프가화면에 나타나지 않거나 셸의 경우 세션의 제어권을 뺏기게 되므로 중요함"
      ],
      "metadata": {
        "id": "ImVACX_LF7PY"
      },
      "execution_count": 30,
      "outputs": []
    },
    {
      "cell_type": "code",
      "source": [
        "%matplotlib inline "
      ],
      "metadata": {
        "id": "O-4m16D4F9kX"
      },
      "execution_count": 31,
      "outputs": []
    },
    {
      "cell_type": "code",
      "source": [
        "import numpy as np\n",
        "import matplotlib.pyplot as plt \n",
        "plt.plot(np.random.randn(50).cumsum())"
      ],
      "metadata": {
        "colab": {
          "base_uri": "https://localhost:8080/",
          "height": 283
        },
        "id": "ieTD-sAHGA8G",
        "outputId": "71c5877b-bf2b-4963-ae35-318dba365a07"
      },
      "execution_count": 37,
      "outputs": [
        {
          "output_type": "execute_result",
          "data": {
            "text/plain": [
              "[<matplotlib.lines.Line2D at 0x7f4518d6e610>]"
            ]
          },
          "metadata": {},
          "execution_count": 37
        },
        {
          "output_type": "display_data",
          "data": {
            "text/plain": [
              "<Figure size 432x288 with 1 Axes>"
            ],
            "image/png": "[encoded data removed]"
          },
          "metadata": {
            "needs_background": "light"
          }
        }
      ]
    },
    {
      "cell_type": "code",
      "source": [],
      "metadata": {
        "id": "-7HXFJbzGGmw"
      },
      "execution_count": null,
      "outputs": []
    }
  ]
}